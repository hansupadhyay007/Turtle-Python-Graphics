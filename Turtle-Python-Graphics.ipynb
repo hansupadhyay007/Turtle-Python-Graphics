{
 "cells": [
  {
   "cell_type": "code",
   "execution_count": 1,
   "metadata": {},
   "outputs": [
    {
     "ename": "Terminator",
     "evalue": "",
     "output_type": "error",
     "traceback": [
      "\u001b[1;31m---------------------------------------------------------------------------\u001b[0m",
      "\u001b[1;31mTerminator\u001b[0m                                Traceback (most recent call last)",
      "Cell \u001b[1;32mIn[1], line 11\u001b[0m\n\u001b[0;32m      9\u001b[0m \u001b[39mfor\u001b[39;00m c \u001b[39min\u001b[39;00m colors:\n\u001b[0;32m     10\u001b[0m     turtle\u001b[39m.\u001b[39mcolor(c)\n\u001b[1;32m---> 11\u001b[0m     turtle\u001b[39m.\u001b[39;49mcircle(\u001b[39m200\u001b[39;49m\u001b[39m-\u001b[39;49mi, \u001b[39m100\u001b[39;49m)\n\u001b[0;32m     12\u001b[0m     turtle\u001b[39m.\u001b[39mlt(\u001b[39m90\u001b[39m)\n\u001b[0;32m     13\u001b[0m     turtle\u001b[39m.\u001b[39mcircle(\u001b[39m200\u001b[39m\u001b[39m-\u001b[39mi, \u001b[39m100\u001b[39m)\n",
      "File \u001b[1;32m<string>:5\u001b[0m, in \u001b[0;36mcircle\u001b[1;34m(radius, extent, steps)\u001b[0m\n",
      "\u001b[1;31mTerminator\u001b[0m: "
     ]
    }
   ],
   "source": [
    "import turtle\n",
    "\n",
    "turtle.bgcolor(\"black\")\n",
    "turtle.speed(0)\n",
    "turtle.hideturtle()\n",
    "\n",
    "colors = [\"yellow\" , \"red\" , \"yellow\" , \"red\", \"purple\", \"white\"]\n",
    "for i in range(120):\n",
    "    for c in colors:\n",
    "        turtle.color(c)\n",
    "        turtle.circle(200-i, 100)\n",
    "        turtle.lt(90)\n",
    "        turtle.circle(200-i, 100)\n",
    "        turtle.rt(60)\n",
    "        turtle.end_fill()\n",
    "\n",
    "turtle.mainloop()"
   ]
  }
 ],
 "metadata": {
  "kernelspec": {
   "display_name": "Python 3",
   "language": "python",
   "name": "python3"
  },
  "language_info": {
   "codemirror_mode": {
    "name": "ipython",
    "version": 3
   },
   "file_extension": ".py",
   "mimetype": "text/x-python",
   "name": "python",
   "nbconvert_exporter": "python",
   "pygments_lexer": "ipython3",
   "version": "3.11.2"
  },
  "orig_nbformat": 4
 },
 "nbformat": 4,
 "nbformat_minor": 2
}
