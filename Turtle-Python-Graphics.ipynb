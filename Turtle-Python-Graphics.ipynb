{
 "cells": [
  {
   "cell_type": "code",
   "execution_count": null,
   "metadata": {},
   "outputs": [],
   "source": [
    "import turtle\n",
    "\n",
    "turtle.bgcolor(\"black\")\n",
    "turtle.speed(0)\n",
    "turtle.hideturtle()\n",
    "\n",
    "colors = [\"yellow\" , \"red\" , \"yellow\" , \"red\", \"purple\", \"white\"]\n",
    "#for loop starts\n",
    "for i in range(120):\n",
    "    for c in colors:\n",
    "        turtle.color(c)\n",
    "        turtle.circle(200-i, 100)\n",
    "        turtle.lt(90)\n",
    "        turtle.circle(200-i, 100)\n",
    "        turtle.rt(60)\n",
    "        turtle.end_fill()\n",
    "\n",
    "turtle.mainloop()"
   ]
  }
 ],
 "metadata": {
  "kernelspec": {
   "display_name": "Python 3",
   "language": "python",
   "name": "python3"
  },
  "language_info": {
   "codemirror_mode": {
    "name": "ipython",
    "version": 3
   },
   "file_extension": ".py",
   "mimetype": "text/x-python",
   "name": "python",
   "nbconvert_exporter": "python",
   "pygments_lexer": "ipython3",
   "version": "3.11.2"
  },
  "orig_nbformat": 4
 },
 "nbformat": 4,
 "nbformat_minor": 2
}
